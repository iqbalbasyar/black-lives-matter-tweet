{
 "cells": [
  {
   "cell_type": "markdown",
   "metadata": {},
   "source": [
    "# Pengenalan Analisis Sosial Media (Twitter) menggunakan Python \n",
    "\n",
    "Tujuan dari course ini adalah untuk mengenalkan python sebagai tools untuk melakukan analisis sosial media"
   ]
  },
  {
   "cell_type": "markdown",
   "metadata": {},
   "source": [
    "*Cheatseet Jupyter Notebook / Lab :*\n",
    "- Setiap sintaks dijalankan dalam cell \n",
    "- cell memiliki dua tipe : \n",
    "<br>1. Teks : Support html, markdown, dan latex.\n",
    "<br>2. Code : Support Julia, Python, dan R (alasan mengapa disebut Jupyter) dan Bash. \n",
    "\n",
    "- Jupyter Lab/Notebook memiliki mode edit dan select cell.\n",
    "Saat dalam mode edit, akan ada cursor didalam cell. <br>Tekan esc untuk beralih ke mode select. \n",
    "<br>Saat dalam mode select, tekan enter untuk mengedit cell. \n",
    "\n",
    "- ctrl + enter untuk menjalankan sebuah cell. Shift + enter untuk menjalankan sebuah cell lalu berpindah ke cell dibawahnya\n",
    "- Saat dalam mode select cell (bukan edit), tekan `m`  untuk mengubah tipe cell menjadi teks. Tekan `y` untuk mengubah tipe cell menjadi code\n",
    "- Saat dalam mode select cell (bukan edit), tekan `c` untuk copy cell. Tekan `x` untuk cut cell. Tekan `v` untuk paste cell. Tekan `d+d` untuk menghapus cell\n",
    "- Saat dalam mode select cell (bukan edit), tekan `a` untuk menambahkan 1 cell diatas. Tekan `b` untuk menambahkan 1 cell dibawah.\n",
    "- Gunakan tombol keyboard panah atas/bawah untuk berpindah cell saat dalam mode select (bukan edit).\n",
    "\n",
    "___"
   ]
  },
  {
   "cell_type": "code",
   "execution_count": 3,
   "metadata": {},
   "outputs": [],
   "source": [
    "import tweepy \n",
    "\n",
    "import numpy as np # untuk mengolah data skalar dan vector\n",
    "import pandas as pd # untuk mengolah data tabular\n",
    "from wordcloud import WordCloud # untuk visualisasi wordcloud\n",
    "\n",
    "# liibrary nlp\n",
    "import gensim # untuk pemodelan bahasa \n",
    "from gensim.models import Word2Vec # untuk pemodelan bahasa\n",
    "from elang.plot.utils import plot2d, plotNeighbours # untuk visualisasi \n",
    "\n",
    "#library deeplearning\n",
    "from tensorflow.keras.models import load_model\n",
    "from tensorflow.keras.preprocessing import sequence\n",
    "\n",
    "# library pembantu\n",
    "import pickle # untuk membaca file binary\n",
    "from tqdm import tqdm # untuk melihat progress\n",
    "import re # untuk pencarian pola dalam teks\n",
    "import helper # "
   ]
  },
  {
   "cell_type": "markdown",
   "metadata": {},
   "source": [
    "# 1. Setup API dengan Tweepy"
   ]
  },
  {
   "cell_type": "code",
   "execution_count": 17,
   "metadata": {},
   "outputs": [],
   "source": [
    "api_key = 'RUZfoRbkRM6o7j0Wb7TaKZEU4' #example key\n",
    "api_key_secret = 'dD3eucfAIarMz6QO7mJPIYRZPbNDkL3WfUtUMJ9Dqp4b0EUsDy' #example key_secret\n",
    "access_token = '1559271654-T8q0mkCyESiDiNh6LqmN5oy3KlODmVPQzr29tsJ' # example token\n",
    "access_token_secret = 'yHtd4NiKlqE6d0DHHTrntVSxCuoCmJPqRxK9N4wFz9uX1' # example token secret"
   ]
  },
  {
   "cell_type": "code",
   "execution_count": 18,
   "metadata": {},
   "outputs": [],
   "source": [
    "auth = tweepy.OAuthHandler(api_key, api_key_secret)\n",
    "auth.set_access_token(access_token, access_token_secret)\n",
    "api = tweepy.API(auth, wait_on_rate_limit=True, wait_on_rate_limit_notify=True, compression=True)"
   ]
  },
  {
   "cell_type": "code",
   "execution_count": 20,
   "metadata": {},
   "outputs": [],
   "source": [
    "# Tidak perlu dijalankan bila belum meiliki credentials api twitter\n",
    "# api.verify_credentials()"
   ]
  },
  {
   "cell_type": "markdown",
   "metadata": {},
   "source": [
    "# 2. Mengambil Data Menggunakan API"
   ]
  },
  {
   "cell_type": "code",
   "execution_count": 27,
   "metadata": {},
   "outputs": [],
   "source": [
    "kata_kunci = \"#BlackLivesMatters OR BlackLivesMaters\"\n",
    "tweets_cursor = tweepy.Cursor(api.search,\n",
    "                          q=kata_kunci,\n",
    "                          lang=\"id\",\n",
    "#                           since='2020-05-01',\n",
    "#                           until='2020-05-31', \n",
    "                          result_type = 'mixed', # popular, mixed(default)\n",
    "                          tweet_mode='extended', \n",
    "                          # max_id = tweet[-1].id # melanjutkan proses pengambilan sebelum tweet terakhir\n",
    "                         ).items(100)"
   ]
  },
  {
   "cell_type": "code",
   "execution_count": 28,
   "metadata": {},
   "outputs": [
    {
     "name": "stderr",
     "output_type": "stream",
     "text": [
      "0it [00:00, ?it/s]\n"
     ]
    }
   ],
   "source": [
    "tweet = [tweet for tweet in tqdm(tweets_cursor)]"
   ]
  },
  {
   "cell_type": "code",
   "execution_count": 29,
   "metadata": {},
   "outputs": [
    {
     "data": {
      "text/plain": [
       "0"
      ]
     },
     "execution_count": 29,
     "metadata": {},
     "output_type": "execute_result"
    }
   ],
   "source": [
    "len(tweet)"
   ]
  },
  {
   "cell_type": "code",
   "execution_count": 32,
   "metadata": {},
   "outputs": [],
   "source": [
    "# save tweet ke \n",
    "# with open('data/tweet_blm', 'wb') as file:\n",
    "#     pickle.dump(tweet_blm, file)"
   ]
  },
  {
   "cell_type": "code",
   "execution_count": 30,
   "metadata": {},
   "outputs": [],
   "source": [
    "# load tweet\n",
    "with open('data/tweet_blm', 'rb') as file:\n",
    "    tweet_blm = pickle.load(file)"
   ]
  },
  {
   "cell_type": "code",
   "execution_count": null,
   "metadata": {},
   "outputs": [],
   "source": []
  }
 ],
 "metadata": {
  "kernelspec": {
   "display_name": "Tensorflow",
   "language": "python",
   "name": "tf"
  },
  "language_info": {
   "codemirror_mode": {
    "name": "ipython",
    "version": 3
   },
   "file_extension": ".py",
   "mimetype": "text/x-python",
   "name": "python",
   "nbconvert_exporter": "python",
   "pygments_lexer": "ipython3",
   "version": "3.8.3"
  }
 },
 "nbformat": 4,
 "nbformat_minor": 4
}
