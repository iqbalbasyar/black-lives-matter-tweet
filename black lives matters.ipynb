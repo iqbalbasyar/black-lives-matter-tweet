{
 "cells": [
  {
   "cell_type": "markdown",
   "metadata": {},
   "source": [
    "# BlackLiveMatter Hashtag Analysis in Indonesia"
   ]
  },
  {
   "cell_type": "code",
   "execution_count": 2,
   "metadata": {},
   "outputs": [],
   "source": [
    "import pickle\n",
    "import pandas as pd, numpy as np\n",
    "\n",
    "from elang.plot.utils import plot2d, plotNeighbours\n",
    "from gensim.utils import simple_preprocess\n",
    "from gensim.models import Word2Vec\n",
    "from sklearn.model_selection import train_test_split\n",
    "from scipy import spatial\n",
    "\n",
    "from tqdm import tqdm\n",
    "import helper"
   ]
  },
  {
   "cell_type": "code",
   "execution_count": 3,
   "metadata": {},
   "outputs": [
    {
     "data": {
      "text/plain": [
       "<module 'helper' from '/Users/iqbalbasyar/Documents/onego/Twitter Analysis/blacklivesmatter/helper.py'>"
      ]
     },
     "execution_count": 3,
     "metadata": {},
     "output_type": "execute_result"
    }
   ],
   "source": [
    "import importlib\n",
    "importlib.reload(helper)"
   ]
  },
  {
   "cell_type": "markdown",
   "metadata": {},
   "source": [
    "# 1. Preparations"
   ]
  },
  {
   "cell_type": "markdown",
   "metadata": {},
   "source": [
    "## Gather Tweet Data\n",
    "This data contains ~20k tweets as the reuslt of search query api \"#blacklivesmatters OR #blacklivesmatter\" on May 30th, 2020 in Indonesia. The original data was saved as `tweepy.models.Status`. But we will take several information and transform it into DataFrame. \n",
    "\n",
    "We choose the data in order to analyze current (today is May 30) hot topics about george floyd in Indonesia. The main motivation is about human rights.\n",
    "\n",
    "The data was collected using twitter api in `get_tweet.ipynb`\n",
    "```"
   ]
  },
  {
   "cell_type": "code",
   "execution_count": 3,
   "metadata": {},
   "outputs": [
    {
     "name": "stderr",
     "output_type": "stream",
     "text": [
      "100%|██████████| 19093/19093 [00:00<00:00, 88891.53it/s]\n"
     ]
    },
    {
     "data": {
      "text/html": [
       "<div>\n",
       "<style scoped>\n",
       "    .dataframe tbody tr th:only-of-type {\n",
       "        vertical-align: middle;\n",
       "    }\n",
       "\n",
       "    .dataframe tbody tr th {\n",
       "        vertical-align: top;\n",
       "    }\n",
       "\n",
       "    .dataframe thead th {\n",
       "        text-align: right;\n",
       "    }\n",
       "</style>\n",
       "<table border=\"1\" class=\"dataframe\">\n",
       "  <thead>\n",
       "    <tr style=\"text-align: right;\">\n",
       "      <th></th>\n",
       "      <th>text</th>\n",
       "      <th>id</th>\n",
       "      <th>userid</th>\n",
       "      <th>username</th>\n",
       "      <th>created_at</th>\n",
       "      <th>likes</th>\n",
       "      <th>retweets</th>\n",
       "      <th>isquote</th>\n",
       "      <th>is_retweet</th>\n",
       "      <th>mentions</th>\n",
       "      <th>hashtags</th>\n",
       "      <th>reply_to</th>\n",
       "      <th>geo</th>\n",
       "      <th>place</th>\n",
       "    </tr>\n",
       "  </thead>\n",
       "  <tbody>\n",
       "    <tr>\n",
       "      <th>0</th>\n",
       "      <td>RT @OpRahim: Aku perhati je orang2 yg aku kena...</td>\n",
       "      <td>1266645938933600256</td>\n",
       "      <td>528681194</td>\n",
       "      <td>OpRahim</td>\n",
       "      <td>2020-05-30 08:21:39</td>\n",
       "      <td>0</td>\n",
       "      <td>2</td>\n",
       "      <td>False</td>\n",
       "      <td>True</td>\n",
       "      <td>[OpRahim]</td>\n",
       "      <td>[BlacklivesMaters]</td>\n",
       "      <td>NaN</td>\n",
       "      <td>None</td>\n",
       "      <td>None</td>\n",
       "    </tr>\n",
       "    <tr>\n",
       "      <th>1</th>\n",
       "      <td>RT @seoqjinx: Dari pada nyebar hati ungu. Mend...</td>\n",
       "      <td>1266645921527238656</td>\n",
       "      <td>4911688255</td>\n",
       "      <td>LittleBambiJK</td>\n",
       "      <td>2020-05-30 08:21:35</td>\n",
       "      <td>0</td>\n",
       "      <td>444</td>\n",
       "      <td>False</td>\n",
       "      <td>True</td>\n",
       "      <td>[seoqjinx]</td>\n",
       "      <td>[BlacklivesMaters, RAISETHEDEGREE, BlacklivesM...</td>\n",
       "      <td>NaN</td>\n",
       "      <td>None</td>\n",
       "      <td>None</td>\n",
       "    </tr>\n",
       "    <tr>\n",
       "      <th>2</th>\n",
       "      <td>RT @joonsharmony: halo semuanya. disini aku co...</td>\n",
       "      <td>1266645915521085441</td>\n",
       "      <td>942796746593148928</td>\n",
       "      <td>r_beomjin</td>\n",
       "      <td>2020-05-30 08:21:34</td>\n",
       "      <td>0</td>\n",
       "      <td>207</td>\n",
       "      <td>False</td>\n",
       "      <td>True</td>\n",
       "      <td>[joonsharmony]</td>\n",
       "      <td>[]</td>\n",
       "      <td>NaN</td>\n",
       "      <td>None</td>\n",
       "      <td>None</td>\n",
       "    </tr>\n",
       "    <tr>\n",
       "      <th>3</th>\n",
       "      <td>RT @notfatra: Buat yang belum tau baca ini nih...</td>\n",
       "      <td>1266645913960771584</td>\n",
       "      <td>1011243693141946372</td>\n",
       "      <td>staerryskies_</td>\n",
       "      <td>2020-05-30 08:21:33</td>\n",
       "      <td>0</td>\n",
       "      <td>172</td>\n",
       "      <td>False</td>\n",
       "      <td>True</td>\n",
       "      <td>[notfatra]</td>\n",
       "      <td>[BlackLivesMatters]</td>\n",
       "      <td>NaN</td>\n",
       "      <td>None</td>\n",
       "      <td>None</td>\n",
       "    </tr>\n",
       "    <tr>\n",
       "      <th>4</th>\n",
       "      <td>RT @seoqjinx: Dari pada nyebar hati ungu. Mend...</td>\n",
       "      <td>1266645898978721793</td>\n",
       "      <td>1194409236576366592</td>\n",
       "      <td>AsriFadillah8</td>\n",
       "      <td>2020-05-30 08:21:30</td>\n",
       "      <td>0</td>\n",
       "      <td>444</td>\n",
       "      <td>False</td>\n",
       "      <td>True</td>\n",
       "      <td>[seoqjinx]</td>\n",
       "      <td>[BlacklivesMaters, RAISETHEDEGREE, BlacklivesM...</td>\n",
       "      <td>NaN</td>\n",
       "      <td>None</td>\n",
       "      <td>None</td>\n",
       "    </tr>\n",
       "  </tbody>\n",
       "</table>\n",
       "</div>"
      ],
      "text/plain": [
       "                                                text                   id  \\\n",
       "0  RT @OpRahim: Aku perhati je orang2 yg aku kena...  1266645938933600256   \n",
       "1  RT @seoqjinx: Dari pada nyebar hati ungu. Mend...  1266645921527238656   \n",
       "2  RT @joonsharmony: halo semuanya. disini aku co...  1266645915521085441   \n",
       "3  RT @notfatra: Buat yang belum tau baca ini nih...  1266645913960771584   \n",
       "4  RT @seoqjinx: Dari pada nyebar hati ungu. Mend...  1266645898978721793   \n",
       "\n",
       "                userid       username          created_at  likes  retweets  \\\n",
       "0            528681194        OpRahim 2020-05-30 08:21:39      0         2   \n",
       "1           4911688255  LittleBambiJK 2020-05-30 08:21:35      0       444   \n",
       "2   942796746593148928      r_beomjin 2020-05-30 08:21:34      0       207   \n",
       "3  1011243693141946372  staerryskies_ 2020-05-30 08:21:33      0       172   \n",
       "4  1194409236576366592  AsriFadillah8 2020-05-30 08:21:30      0       444   \n",
       "\n",
       "   isquote  is_retweet        mentions  \\\n",
       "0    False        True       [OpRahim]   \n",
       "1    False        True      [seoqjinx]   \n",
       "2    False        True  [joonsharmony]   \n",
       "3    False        True      [notfatra]   \n",
       "4    False        True      [seoqjinx]   \n",
       "\n",
       "                                            hashtags  reply_to   geo place  \n",
       "0                                 [BlacklivesMaters]       NaN  None  None  \n",
       "1  [BlacklivesMaters, RAISETHEDEGREE, BlacklivesM...       NaN  None  None  \n",
       "2                                                 []       NaN  None  None  \n",
       "3                                [BlackLivesMatters]       NaN  None  None  \n",
       "4  [BlacklivesMaters, RAISETHEDEGREE, BlacklivesM...       NaN  None  None  "
      ]
     },
     "execution_count": 3,
     "metadata": {},
     "output_type": "execute_result"
    }
   ],
   "source": [
    "with open('data/tweet_blm', 'rb') as file:\n",
    "    tweet_blm = pickle.load(file)\n",
    "    \n",
    "tweets = helper.tweetlist2df(tweet_blm)\n",
    "tweets.head()"
   ]
  },
  {
   "cell_type": "markdown",
   "metadata": {},
   "source": [
    "## Preprocessing \n",
    "Since we are going to build an activity network, we will normalize interactions (mentions) between user. Every user that mentions more than one username will be splitted into lines. \n",
    "\n",
    "We will also clean the text so that we can build better word2vec model later."
   ]
  },
  {
   "cell_type": "code",
   "execution_count": 4,
   "metadata": {},
   "outputs": [],
   "source": [
    "# Normalize each row for user who mentions more than 2 username, and save it as csv\n",
    "# tweeet = separate_rows(tweeet, 'mentions')\n",
    "# tweeet.to_csv('tweet_black_lives_matter.csv', index=False)"
   ]
  },
  {
   "cell_type": "code",
   "execution_count": 5,
   "metadata": {},
   "outputs": [],
   "source": [
    "# Text Cleansing : \n",
    "# Remove urls, indonesian stopwords, laugh, emoticons, and punctuations using \n",
    "\n",
    "# clean_text = []\n",
    "# for text in tqdm(tweets['text']):\n",
    "#     clean_text.append(helper.clean_teks(text))\n",
    "# tweets['text_clean'] = clean_text\n",
    "# tweets.to_csv('tweet_black_lives_matter_clean.csv', index=False)"
   ]
  },
  {
   "cell_type": "code",
   "execution_count": 6,
   "metadata": {},
   "outputs": [],
   "source": [
    "# Read pre-processed text\n",
    "tweets = pd.read_csv('data/tweet_black_lives_matter_clean.csv')"
   ]
  },
  {
   "cell_type": "code",
   "execution_count": 7,
   "metadata": {},
   "outputs": [],
   "source": [
    "# get all hashtags\n",
    "hashtags = []\n",
    "for tweet in tweet_blm:\n",
    "    if (hashtag:=tweet.entities['hashtags']) != []:\n",
    "        hashtags.extend([tag['text'] for tag in hashtag])"
   ]
  },
  {
   "cell_type": "code",
   "execution_count": 8,
   "metadata": {},
   "outputs": [],
   "source": [
    "# get all mentions\n",
    "mentions = []\n",
    "for tweet in tweet_blm:\n",
    "    if (users:=tweet.entities['user_mentions']) != []:\n",
    "        mentions.extend([user['screen_name'] for user in users])"
   ]
  },
  {
   "cell_type": "markdown",
   "metadata": {},
   "source": [
    "# 2. Activity Network\n",
    "\n",
    "in credits to complete @joe's task"
   ]
  },
  {
   "cell_type": "markdown",
   "metadata": {},
   "source": [
    "## Create Network From DataFrame\n",
    "Since the process may take a while, we will read the edges and nodes from preprocessed tweet. We build directed graph because the activity (retweet and reply) is one-way connection in graph. "
   ]
  },
  {
   "cell_type": "code",
   "execution_count": 9,
   "metadata": {},
   "outputs": [],
   "source": [
    "# load pre-processed csv and make edges dataframe to visualize the networks\n",
    "# df= pd.read_csv('data/tweet_black_lives_matter.csv', usecols=['username', 'mentions', 'is_retweet'])\n",
    "# df['type'] = df['is_retweet'].apply(lambda x: 'retweet' if x == True else 'reply')\n",
    "# edges = df[['mentions', 'username', 'type']]\n",
    "# edges.columns = ['from', 'to','type']\n",
    "# edges['count'] = 1\n",
    "# edges = edges.groupby(['from', 'to', 'type']).sum().reset_index()\n",
    "# nodes = pd.DataFrame(set(edges[['from', 'to']].values.flatten()), columns=['username'])\n",
    "\n",
    "# nodes.to_csv('data/nodes.csv', index=False)\n",
    "# edges.to_csv('data/edges.csv', index=False)"
   ]
  },
  {
   "cell_type": "code",
   "execution_count": 10,
   "metadata": {},
   "outputs": [],
   "source": [
    "# load pre-processed nodes and edges\n",
    "nodes = pd.read_csv('data/nodes.csv')\n",
    "edges = pd.read_csv('data/edges.csv')"
   ]
  },
  {
   "cell_type": "code",
   "execution_count": 11,
   "metadata": {},
   "outputs": [
    {
     "data": {
      "text/html": [
       "<div>\n",
       "<style scoped>\n",
       "    .dataframe tbody tr th:only-of-type {\n",
       "        vertical-align: middle;\n",
       "    }\n",
       "\n",
       "    .dataframe tbody tr th {\n",
       "        vertical-align: top;\n",
       "    }\n",
       "\n",
       "    .dataframe thead th {\n",
       "        text-align: right;\n",
       "    }\n",
       "</style>\n",
       "<table border=\"1\" class=\"dataframe\">\n",
       "  <thead>\n",
       "    <tr style=\"text-align: right;\">\n",
       "      <th></th>\n",
       "      <th>username</th>\n",
       "    </tr>\n",
       "  </thead>\n",
       "  <tbody>\n",
       "    <tr>\n",
       "      <th>0</th>\n",
       "      <td>bigelsluvtae</td>\n",
       "    </tr>\n",
       "    <tr>\n",
       "      <th>1</th>\n",
       "      <td>Rebahan_IsLyfeu</td>\n",
       "    </tr>\n",
       "    <tr>\n",
       "      <th>2</th>\n",
       "      <td>Ash_____XO</td>\n",
       "    </tr>\n",
       "  </tbody>\n",
       "</table>\n",
       "</div>"
      ],
      "text/plain": [
       "          username\n",
       "0     bigelsluvtae\n",
       "1  Rebahan_IsLyfeu\n",
       "2       Ash_____XO"
      ]
     },
     "execution_count": 11,
     "metadata": {},
     "output_type": "execute_result"
    }
   ],
   "source": [
    "nodes.head(3)"
   ]
  },
  {
   "cell_type": "code",
   "execution_count": 12,
   "metadata": {},
   "outputs": [
    {
     "data": {
      "text/html": [
       "<div>\n",
       "<style scoped>\n",
       "    .dataframe tbody tr th:only-of-type {\n",
       "        vertical-align: middle;\n",
       "    }\n",
       "\n",
       "    .dataframe tbody tr th {\n",
       "        vertical-align: top;\n",
       "    }\n",
       "\n",
       "    .dataframe thead th {\n",
       "        text-align: right;\n",
       "    }\n",
       "</style>\n",
       "<table border=\"1\" class=\"dataframe\">\n",
       "  <thead>\n",
       "    <tr style=\"text-align: right;\">\n",
       "      <th></th>\n",
       "      <th>from</th>\n",
       "      <th>to</th>\n",
       "      <th>type</th>\n",
       "      <th>count</th>\n",
       "    </tr>\n",
       "  </thead>\n",
       "  <tbody>\n",
       "    <tr>\n",
       "      <th>0</th>\n",
       "      <td>1994KIMNJ</td>\n",
       "      <td>crownforkth</td>\n",
       "      <td>reply</td>\n",
       "      <td>1</td>\n",
       "    </tr>\n",
       "    <tr>\n",
       "      <th>1</th>\n",
       "      <td>1994KIMNJ</td>\n",
       "      <td>hlgiyana</td>\n",
       "      <td>retweet</td>\n",
       "      <td>2</td>\n",
       "    </tr>\n",
       "    <tr>\n",
       "      <th>2</th>\n",
       "      <td>1994KIMNJ</td>\n",
       "      <td>may_Njel</td>\n",
       "      <td>retweet</td>\n",
       "      <td>2</td>\n",
       "    </tr>\n",
       "  </tbody>\n",
       "</table>\n",
       "</div>"
      ],
      "text/plain": [
       "        from           to     type  count\n",
       "0  1994KIMNJ  crownforkth    reply      1\n",
       "1  1994KIMNJ     hlgiyana  retweet      2\n",
       "2  1994KIMNJ     may_Njel  retweet      2"
      ]
     },
     "execution_count": 12,
     "metadata": {},
     "output_type": "execute_result"
    }
   ],
   "source": [
    "edges.head(3)"
   ]
  },
  {
   "cell_type": "markdown",
   "metadata": {},
   "source": [
    "Then using R, we create the graph with `group_walktrap()` algorithm on making the community. \n",
    "We also measure degree, betweenes,closeness, and eigen centrality method to determine the key player. \n",
    "\n",
    "```r\n",
    "network_nn <- graph_from_data_frame(d = edges, vertices = nodes, directed = T) %>%\n",
    "  as_tbl_graph()\n",
    "\n",
    "# create community, calculate centrality and remove loop edge\n",
    "set.seed(123)\n",
    "network_nn <- network_nn %>% \n",
    "  activate(nodes) %>%\n",
    "  mutate(community = group_walktrap(),\n",
    "         degree = centrality_degree(),\n",
    "         between = centrality_betweenness(),\n",
    "         closeness = centrality_closeness(),\n",
    "         eigen = centrality_eigen()) %>%\n",
    "  activate(edges) %>%\n",
    "  filter(!edge_is_loop())\n",
    "\n",
    "user_activity <- as.data.frame(network_nn %>% activate(nodes))\n",
    "write.csv(user_activity, 'data/user_activity.csv')\n",
    "```"
   ]
  },
  {
   "cell_type": "markdown",
   "metadata": {},
   "source": [
    "## Finding Key Player\n"
   ]
  },
  {
   "cell_type": "markdown",
   "metadata": {},
   "source": [
    "In order to see how this tweet spread in Indonesia, we took some user as a key player. From total activities (likes and retweets), here are several names that contributes the most."
   ]
  },
  {
   "cell_type": "code",
   "execution_count": 13,
   "metadata": {},
   "outputs": [
    {
     "data": {
      "text/html": [
       "<div>\n",
       "<style scoped>\n",
       "    .dataframe tbody tr th:only-of-type {\n",
       "        vertical-align: middle;\n",
       "    }\n",
       "\n",
       "    .dataframe tbody tr th {\n",
       "        vertical-align: top;\n",
       "    }\n",
       "\n",
       "    .dataframe thead th {\n",
       "        text-align: right;\n",
       "    }\n",
       "</style>\n",
       "<table border=\"1\" class=\"dataframe\">\n",
       "  <thead>\n",
       "    <tr style=\"text-align: right;\">\n",
       "      <th></th>\n",
       "      <th>likes</th>\n",
       "      <th>retweets</th>\n",
       "    </tr>\n",
       "    <tr>\n",
       "      <th>username</th>\n",
       "      <th></th>\n",
       "      <th></th>\n",
       "    </tr>\n",
       "  </thead>\n",
       "  <tbody>\n",
       "    <tr>\n",
       "      <th>anpamanz</th>\n",
       "      <td>369.0</td>\n",
       "      <td>1013.0</td>\n",
       "    </tr>\n",
       "    <tr>\n",
       "      <th>txtdrindomy</th>\n",
       "      <td>586.0</td>\n",
       "      <td>516.0</td>\n",
       "    </tr>\n",
       "    <tr>\n",
       "      <th>notfatra</th>\n",
       "      <td>650.0</td>\n",
       "      <td>181.0</td>\n",
       "    </tr>\n",
       "    <tr>\n",
       "      <th>euphojiia19</th>\n",
       "      <td>89.0</td>\n",
       "      <td>615.0</td>\n",
       "    </tr>\n",
       "    <tr>\n",
       "      <th>maritzaurel_</th>\n",
       "      <td>502.0</td>\n",
       "      <td>189.0</td>\n",
       "    </tr>\n",
       "    <tr>\n",
       "      <th>kimthxv_</th>\n",
       "      <td>103.0</td>\n",
       "      <td>542.0</td>\n",
       "    </tr>\n",
       "    <tr>\n",
       "      <th>uyonisti96</th>\n",
       "      <td>386.0</td>\n",
       "      <td>183.0</td>\n",
       "    </tr>\n",
       "    <tr>\n",
       "      <th>seoqjinx</th>\n",
       "      <td>79.0</td>\n",
       "      <td>477.0</td>\n",
       "    </tr>\n",
       "    <tr>\n",
       "      <th>prknyaaa</th>\n",
       "      <td>282.0</td>\n",
       "      <td>209.0</td>\n",
       "    </tr>\n",
       "    <tr>\n",
       "      <th>strwbrryera</th>\n",
       "      <td>310.0</td>\n",
       "      <td>169.0</td>\n",
       "    </tr>\n",
       "  </tbody>\n",
       "</table>\n",
       "</div>"
      ],
      "text/plain": [
       "              likes  retweets\n",
       "username                     \n",
       "anpamanz      369.0    1013.0\n",
       "txtdrindomy   586.0     516.0\n",
       "notfatra      650.0     181.0\n",
       "euphojiia19    89.0     615.0\n",
       "maritzaurel_  502.0     189.0\n",
       "kimthxv_      103.0     542.0\n",
       "uyonisti96    386.0     183.0\n",
       "seoqjinx       79.0     477.0\n",
       "prknyaaa      282.0     209.0\n",
       "strwbrryera   310.0     169.0"
      ]
     },
     "execution_count": 13,
     "metadata": {},
     "output_type": "execute_result"
    }
   ],
   "source": [
    "topuser = tweets.copy()\n",
    "topuser['total'] = topuser['likes'] + topuser['retweets']\n",
    "topuser = topuser.groupby('username').sum().sort_values(by='total', ascending=False)[['likes', 'retweets']]\n",
    "topuser.head(10)"
   ]
  },
  {
   "cell_type": "markdown",
   "metadata": {},
   "source": [
    "But we also have the measure of degree, betweenness, closeness, and eigen below. Since the virality of tweet depends on how much and how fast the tweet is posted in specific timeline, we should focus on betweenness and closeness. We use betweenness to see user who gives the most potential reach, and closeness to see user who can spread the tweet quickly. "
   ]
  },
  {
   "cell_type": "code",
   "execution_count": 14,
   "metadata": {},
   "outputs": [
    {
     "data": {
      "text/html": [
       "<div>\n",
       "<style scoped>\n",
       "    .dataframe tbody tr th:only-of-type {\n",
       "        vertical-align: middle;\n",
       "    }\n",
       "\n",
       "    .dataframe tbody tr th {\n",
       "        vertical-align: top;\n",
       "    }\n",
       "\n",
       "    .dataframe thead th {\n",
       "        text-align: right;\n",
       "    }\n",
       "</style>\n",
       "<table border=\"1\" class=\"dataframe\">\n",
       "  <thead>\n",
       "    <tr style=\"text-align: right;\">\n",
       "      <th></th>\n",
       "      <th>degree</th>\n",
       "      <th>betweenness</th>\n",
       "      <th>closeness</th>\n",
       "      <th>eigen</th>\n",
       "    </tr>\n",
       "  </thead>\n",
       "  <tbody>\n",
       "    <tr>\n",
       "      <th>0</th>\n",
       "      <td>anpamanz</td>\n",
       "      <td>ZhyLu_</td>\n",
       "      <td>anpamanz</td>\n",
       "      <td>anpamanz</td>\n",
       "    </tr>\n",
       "    <tr>\n",
       "      <th>1</th>\n",
       "      <td>euphojiia19</td>\n",
       "      <td>euphojiia19</td>\n",
       "      <td>txtdrindomy</td>\n",
       "      <td>kimthxv_</td>\n",
       "    </tr>\n",
       "    <tr>\n",
       "      <th>2</th>\n",
       "      <td>kimthxv_</td>\n",
       "      <td>kimthxv_</td>\n",
       "      <td>joonsharmony</td>\n",
       "      <td>euphojiia19</td>\n",
       "    </tr>\n",
       "    <tr>\n",
       "      <th>3</th>\n",
       "      <td>seoqjinx</td>\n",
       "      <td>daeguttae</td>\n",
       "      <td>prknyaaa</td>\n",
       "      <td>seoqjinx</td>\n",
       "    </tr>\n",
       "    <tr>\n",
       "      <th>4</th>\n",
       "      <td>txtdrindomy</td>\n",
       "      <td>seoqjinx</td>\n",
       "      <td>jggukminsea</td>\n",
       "      <td>ItikNoodleSoup_</td>\n",
       "    </tr>\n",
       "    <tr>\n",
       "      <th>5</th>\n",
       "      <td>ItikNoodleSoup_</td>\n",
       "      <td>jungsmy</td>\n",
       "      <td>sprinkletaegi</td>\n",
       "      <td>ZhyLu_</td>\n",
       "    </tr>\n",
       "    <tr>\n",
       "      <th>6</th>\n",
       "      <td>plantaekoo</td>\n",
       "      <td>chimins_lcvebot</td>\n",
       "      <td>blackswagn</td>\n",
       "      <td>jamaisvuphoria</td>\n",
       "    </tr>\n",
       "    <tr>\n",
       "      <th>7</th>\n",
       "      <td>jamaisvuphoria</td>\n",
       "      <td>hobie1301</td>\n",
       "      <td>oohawii</td>\n",
       "      <td>daeguttae</td>\n",
       "    </tr>\n",
       "    <tr>\n",
       "      <th>8</th>\n",
       "      <td>childxhnyh</td>\n",
       "      <td>klgrxra</td>\n",
       "      <td>plantaekoo</td>\n",
       "      <td>plantaekoo</td>\n",
       "    </tr>\n",
       "    <tr>\n",
       "      <th>9</th>\n",
       "      <td>prknyaaa</td>\n",
       "      <td>onfilterz</td>\n",
       "      <td>beingclingy</td>\n",
       "      <td>childxhnyh</td>\n",
       "    </tr>\n",
       "  </tbody>\n",
       "</table>\n",
       "</div>"
      ],
      "text/plain": [
       "            degree      betweenness      closeness            eigen\n",
       "0         anpamanz           ZhyLu_       anpamanz         anpamanz\n",
       "1      euphojiia19      euphojiia19    txtdrindomy         kimthxv_\n",
       "2         kimthxv_         kimthxv_   joonsharmony      euphojiia19\n",
       "3         seoqjinx        daeguttae       prknyaaa         seoqjinx\n",
       "4      txtdrindomy         seoqjinx    jggukminsea  ItikNoodleSoup_\n",
       "5  ItikNoodleSoup_          jungsmy  sprinkletaegi           ZhyLu_\n",
       "6       plantaekoo  chimins_lcvebot     blackswagn   jamaisvuphoria\n",
       "7   jamaisvuphoria        hobie1301        oohawii        daeguttae\n",
       "8       childxhnyh          klgrxra     plantaekoo       plantaekoo\n",
       "9         prknyaaa        onfilterz    beingclingy       childxhnyh"
      ]
     },
     "execution_count": 14,
     "metadata": {},
     "output_type": "execute_result"
    }
   ],
   "source": [
    "user_activity = pd.read_csv('data/kp_activity.csv')\n",
    "user_activity"
   ]
  },
  {
   "cell_type": "markdown",
   "metadata": {},
   "source": [
    "Based on two table above, we see that **\"anpamanz\" and \"euphojiia19\" is the most contributing key player**. Let's see the tweet example and network visualization below. "
   ]
  },
  {
   "cell_type": "code",
   "execution_count": 15,
   "metadata": {},
   "outputs": [
    {
     "name": "stdout",
     "output_type": "stream",
     "text": [
      "Tweet from : anpamanz\n",
      "guys, bantu tenggelemin yg lain\n",
      "\n",
      "#BlacklivesMaters #RAISETHEDEGREE #BlacklivesMaters #RAISETHEDEGREE #BlacklivesMaters #RAISETHEDEGREE #BlacklivesMaters #RAISETHEDEGREE #BlacklivesMaters #RAISETHEDEGREE\n",
      "____\n",
      "Tweet from : anpamanz\n",
      "rep, karna katanya hastag yg sebelumnya gk bisa trending lgi\n",
      "\n",
      "#BlackLivesMatters \n",
      "#BlackLivesMatters \n",
      "#BlackLivesMatters \n",
      "#BlackLivesMatter\n",
      "#BlackLivesMatter\n",
      "#RAISETHEDEGREE \n",
      "#RAISETHEDEGREE\n",
      "____\n",
      "Tweet from : anpamanz\n",
      "sorry guys, i dont know gk boleh spam purple heart, kita bersihin tl pake ini aja\n",
      "\n",
      "#BlackLivesMatters \n",
      "#BlackLivesMatters \n",
      "#BlackLivesMatters \n",
      "#RAISETHEDEGREE \n",
      "#RAISETHEDEGREE \n",
      "#RAISETHEDEGREE\n",
      "____\n",
      "Tweet from : euphojiia19\n",
      "Yang liat plis tolong banget RT/REP 🙏\n",
      " \n",
      "#BlacklivesMaters #RAISETHEDEGREE #BlacklivesMaters #RAISETHEDEGREE #BlacklivesMaters #RAISETHEDEGREE #BlacklivesMaters #RAISETHEDEGREE #BlacklivesMaters #RAISETHEDEGREE\n",
      "____\n"
     ]
    }
   ],
   "source": [
    "for i, row in  tweets[tweets['username'].isin(['anpamanz', 'euphojiia19'])].iterrows():\n",
    "    print(f\"Tweet from : {row['username']}\")\n",
    "    print(row['text'])\n",
    "    print('____')"
   ]
  },
  {
   "cell_type": "markdown",
   "metadata": {},
   "source": [
    "## Network Visualization\n",
    "\n",
    "In visualizing the network, we filterout the degree to be > 200 and betweenes > 200000 because it trims out majority of non signifficant nodes. We separate the connection from tweet type using the following codes:\n",
    "\n",
    "```r\n",
    "network_nn %>%\n",
    "  activate(nodes) %>%\n",
    "  mutate(ids = row_number()) %>%\n",
    "  filter(community %in% 1:1) %>% arrange(community,ids) %>%\n",
    "  mutate(node_label = ifelse(degree >= 200 | between >= 20000,name,\"\")) %>%\n",
    "  mutate(node_size = ifelse(degree >= 200 | between >= 20000,log(degree),0)) %>%\n",
    "  ggraph(layout = \"linear\", circular = T) +\n",
    "  geom_edge_arc(alpha = 0.05, aes(col = as.factor(type), edge_width = count*0.5)) +\n",
    "  geom_node_label(aes(label = node_label, size = node_size),repel = T,\n",
    "                 show.legend = F, fontface = \"bold\", label.size = 0,\n",
    "                 segment.colour=\"slateblue\", fill = \"#ffffff66\") +\n",
    "  coord_fixed() + \n",
    "  labs(title = \"Twitter Activity Network #BlackLivesMatter\",\n",
    "       subtitle = \"Retweets and mention of #1 communities in Indonesia (May 26-30th, 2020)\") +\n",
    "  theme_graph() + \n",
    "  guides(edge_width = F,\n",
    "         edge_colour = guide_legend(title = \"Tweet Type\",\n",
    "                                    override.aes = list(edge_alpha = 1))) +\n",
    "  theme(legend.position = \"bottom\", plot.title = element_text(size = rel(2)),\n",
    "        plot.subtitle = element_text(size = rel(1)),\n",
    "        legend.text = element_text(size = rel(1)))\n",
    "  \n",
    "```"
   ]
  },
  {
   "cell_type": "markdown",
   "metadata": {},
   "source": [
    "![](data/act_network.png)"
   ]
  },
  {
   "cell_type": "markdown",
   "metadata": {},
   "source": [
    "From the graph visualization we know that most of the tweets comes from a retweet. "
   ]
  },
  {
   "cell_type": "markdown",
   "metadata": {},
   "source": [
    "# 3. Analyze with More Granularity by Embedding Tweet using Word2Vec\n",
    "\n",
    "In credit to complete Tomy's task"
   ]
  },
  {
   "cell_type": "code",
   "execution_count": 16,
   "metadata": {},
   "outputs": [],
   "source": [
    "tweets = pd.read_csv('data/tweet_black_lives_matter_clean.csv')\n",
    "tweets = tweets[tweets['is_retweet'] == False]"
   ]
  },
  {
   "cell_type": "markdown",
   "metadata": {},
   "source": [
    "## Train word2vec\n",
    "\n",
    "To give more clarity, we will try to model the tweets with wor2vec. Please mind that the tweet already preprocessed. Since we are going to predict or see the context of the words, we will use skip-gram instead of CBOW method. The model will be initialized with:\n",
    "- shape of 60\n",
    "- window of 4 due to short text of tweet\n",
    "- hierarchical softmax optimzation instead of negative sampling\n",
    "- 5e-5 learning rate\n",
    "- since the text is a little bit hard to be learned and tiny learning rate, we train it on 100 epoch"
   ]
  },
  {
   "cell_type": "code",
   "execution_count": 17,
   "metadata": {},
   "outputs": [],
   "source": [
    "corpus = tweets['text_clean'].apply(simple_preprocess).tolist()"
   ]
  },
  {
   "cell_type": "code",
   "execution_count": 18,
   "metadata": {},
   "outputs": [],
   "source": [
    "from time import time\n",
    "\n",
    "import logging\n",
    "logging.basicConfig(format='%(asctime)s : %(levelname)s : %(message)s', level=logging.INFO)\n",
    "\n",
    "from gensim.models.callbacks import CallbackAny2Vec\n",
    "class Callback(CallbackAny2Vec):\n",
    "    def __init__(self):\n",
    "        self.epoch = 1\n",
    "\n",
    "    def on_epoch_end(self, model):\n",
    "        loss = model.get_latest_training_loss()\n",
    "        if (self.epoch %10) == 0:\n",
    "            print('Loss after epoch {}: {}'.format(self.epoch, loss))\n",
    "        else:\n",
    "            pass\n",
    "            #print('Loss after epoch {}: {}'.format(self.epoch, loss - self.loss_previous_step))\n",
    "        self.epoch += 1\n",
    "        self.loss_previous_step = loss"
   ]
  },
  {
   "cell_type": "code",
   "execution_count": 19,
   "metadata": {},
   "outputs": [
    {
     "name": "stdout",
     "output_type": "stream",
     "text": [
      "Word2Vec(vocab=0, size=60, alpha=0.0005)\n"
     ]
    }
   ],
   "source": [
    "model = Word2Vec(\n",
    "    size = 60, # dimensionality of the word vectors\n",
    "    window = 4, # max distance between context and target word\n",
    "    min_count = 2, # frequency cut-off\n",
    "    sg = 1, # skip-gram = 1, CBOW = 0\n",
    "    cbow_mean = 0, # only applies to CBOW. Use 0 for sum, or 1 for mean of the word vectors \n",
    "    hs = 1, # using hierarchical softmax\n",
    "    negative = 0, # negative sampling will not be used, since hs is activated\n",
    "    ns_exponent = 0.75, # reshape the noise distribution of negative sampling (p)\n",
    "    alpha = 0.0005, # backpropagation learning rate\n",
    "    seed = 666, # reproducibilit\n",
    "    workers = 10)\n",
    "print(model)"
   ]
  },
  {
   "cell_type": "code",
   "execution_count": 20,
   "metadata": {},
   "outputs": [
    {
     "name": "stderr",
     "output_type": "stream",
     "text": [
      "2020-05-31 21:37:23,953 : INFO : collecting all words and their counts\n",
      "2020-05-31 21:37:23,954 : INFO : PROGRESS: at sentence #0, processed 0 words, keeping 0 word types\n",
      "2020-05-31 21:37:23,958 : INFO : PROGRESS: at sentence #1000, processed 9091 words, keeping 2067 word types\n",
      "2020-05-31 21:37:23,961 : INFO : PROGRESS: at sentence #2000, processed 17987 words, keeping 4480 word types\n",
      "2020-05-31 21:37:23,964 : INFO : collected 6186 word types from a corpus of 26401 raw words and 2964 sentences\n",
      "2020-05-31 21:37:23,965 : INFO : Loading a fresh vocabulary\n",
      "2020-05-31 21:37:23,971 : INFO : effective_min_count=2 retains 2066 unique words (33% of original 6186, drops 4120)\n",
      "2020-05-31 21:37:23,972 : INFO : effective_min_count=2 leaves 22281 word corpus (84% of original 26401, drops 4120)\n",
      "2020-05-31 21:37:23,983 : INFO : deleting the raw counts dictionary of 6186 items\n",
      "2020-05-31 21:37:23,985 : INFO : sample=0.001 downsamples 50 most-common words\n",
      "2020-05-31 21:37:23,986 : INFO : downsampling leaves estimated 15783 word corpus (70.8% of prior 22281)\n",
      "2020-05-31 21:37:23,989 : INFO : constructing a huffman tree from 2066 words\n",
      "2020-05-31 21:37:24,057 : INFO : built huffman tree with maximum node depth 14\n",
      "2020-05-31 21:37:24,059 : INFO : estimated required memory for 2066 words and 60 dimensions: 2437880 bytes\n",
      "2020-05-31 21:37:24,059 : INFO : resetting layer weights\n"
     ]
    },
    {
     "name": "stdout",
     "output_type": "stream",
     "text": [
      "CPU times: user 503 ms, sys: 30.9 ms, total: 534 ms\n",
      "Wall time: 551 ms\n"
     ]
    }
   ],
   "source": [
    "%%time\n",
    "logging.disable(logging.NOTSET) # enable logging\n",
    "model.build_vocab(corpus, progress_per = 1000)"
   ]
  },
  {
   "cell_type": "code",
   "execution_count": 21,
   "metadata": {},
   "outputs": [
    {
     "name": "stdout",
     "output_type": "stream",
     "text": [
      "Loss after epoch 10: 1800318.0\n",
      "Loss after epoch 20: 3668591.0\n",
      "Loss after epoch 30: 5131848.0\n",
      "Loss after epoch 40: 6496808.5\n",
      "Loss after epoch 50: 7912390.0\n",
      "Loss after epoch 60: 10067781.0\n",
      "Loss after epoch 70: 12583631.0\n",
      "Loss after epoch 80: 15110565.0\n",
      "Loss after epoch 90: 16867144.0\n",
      "Loss after epoch 100: 17147580.0\n",
      "CPU times: user 8.08 s, sys: 190 ms, total: 8.27 s\n",
      "Wall time: 4.33 s\n"
     ]
    },
    {
     "data": {
      "text/plain": [
       "(1578377, 2640100)"
      ]
     },
     "execution_count": 21,
     "metadata": {},
     "output_type": "execute_result"
    }
   ],
   "source": [
    "%%time \n",
    "logging.disable(logging.INFO) # disable logging\n",
    "callback = Callback() # instead, print out loss for each epoch\n",
    "\n",
    "model.train(corpus,\n",
    "            total_examples = model.corpus_count, # count of sentences\n",
    "            epochs = 100, # number of iterations over the corpus,\n",
    "            compute_loss = True, # to track model loss\n",
    "            callbacks = [callback]) "
   ]
  },
  {
   "cell_type": "markdown",
   "metadata": {},
   "source": [
    "After the training, total vocabulary is ~2000"
   ]
  },
  {
   "cell_type": "code",
   "execution_count": 22,
   "metadata": {},
   "outputs": [
    {
     "data": {
      "text/plain": [
       "2066"
      ]
     },
     "execution_count": 22,
     "metadata": {},
     "output_type": "execute_result"
    }
   ],
   "source": [
    "len(model.wv.vocab)"
   ]
  },
  {
   "cell_type": "markdown",
   "metadata": {},
   "source": [
    "Just after we learn the word context, let's see where the hashtag goes"
   ]
  },
  {
   "cell_type": "code",
   "execution_count": 29,
   "metadata": {},
   "outputs": [
    {
     "data": {
      "image/png": "[encoded data removed]",
      "text/plain": [
       "<Figure size 1260x900 with 1 Axes>"
      ]
     },
     "metadata": {
      "needs_background": "light"
     },
     "output_type": "display_data"
    }
   ],
   "source": [
    "plot2d(model,\n",
    "       words=set(hashtags),\n",
    "       method = \"TSNE\", \n",
    "       random_state = 123, perplexity=4,\n",
    "      )"
   ]
  },
  {
   "cell_type": "code",
   "execution_count": 30,
   "metadata": {},
   "outputs": [
    {
     "data": {
      "text/plain": [
       "[('hate', 0.9825043678283691),\n",
       " ('fisik', 0.9821925759315491),\n",
       " ('your', 0.9790909886360168),\n",
       " ('skin', 0.9751538634300232),\n",
       " ('cant', 0.974022388458252),\n",
       " ('purple', 0.9728688597679138),\n",
       " ('ras', 0.9708086252212524),\n",
       " ('winmetawin', 0.9695508480072021),\n",
       " ('hype', 0.9685945510864258),\n",
       " ('rasism', 0.9671377539634705)]"
      ]
     },
     "execution_count": 30,
     "metadata": {},
     "output_type": "execute_result"
    }
   ],
   "source": [
    "model.wv.most_similar('black')"
   ]
  },
  {
   "cell_type": "code",
   "execution_count": 31,
   "metadata": {},
   "outputs": [
    {
     "data": {
      "text/plain": [
       "[('dunia', 0.9761533737182617),\n",
       " ('ak', 0.9685127139091492),\n",
       " ('semoga', 0.968468189239502),\n",
       " ('agama', 0.9672704339027405),\n",
       " ('kayak', 0.9646633863449097),\n",
       " ('gak', 0.9622620940208435),\n",
       " ('moots', 0.9621548652648926),\n",
       " ('karna', 0.9613953232765198),\n",
       " ('man', 0.9606394171714783),\n",
       " ('enak', 0.9580057263374329)]"
      ]
     },
     "execution_count": 31,
     "metadata": {},
     "output_type": "execute_result"
    }
   ],
   "source": [
    "model.wv.most_similar(positive=['amerika', 'indonesia'], negative=['racism'])"
   ]
  },
  {
   "cell_type": "markdown",
   "metadata": {},
   "source": [
    "## Closest Hashtag"
   ]
  },
  {
   "cell_type": "markdown",
   "metadata": {},
   "source": [
    "Since we have accumulated hashtags, we can also look for similarity between tweet and hashtags's vector. First we need to get the vector of all hashtags, change the tweet into vector (using mean), then measure the cosine similarity to all the hashtag vectors. "
   ]
  },
  {
   "cell_type": "code",
   "execution_count": 32,
   "metadata": {},
   "outputs": [],
   "source": [
    "hashtag_name = [hashtag for hashtag in set(hashtags) if hashtag in model.wv.vocab]\n",
    "hashtag_vector = [model.wv.get_vector(x) for x in hashtag_name]"
   ]
  },
  {
   "cell_type": "code",
   "execution_count": 33,
   "metadata": {},
   "outputs": [],
   "source": [
    "def tweet2vec(words, model):\n",
    "    words = np.array([model.wv.get_vector(word) for word in words if word in model.wv.vocab])\n",
    "    return words.mean(axis=0)\n",
    "\n",
    "def similar_hashtag(words, hashtag_vector, hashtag_name, model):\n",
    "    result = []\n",
    "    tweet_vector = tweet2vec(words, model)\n",
    "    for i in range(len(hashtag_name)):\n",
    "        hname = hashtag_name[i]\n",
    "        hvector = hashtag_vector[i]\n",
    "        distance = 1-spatial.distance.cosine(tweet_vector, hvector)\n",
    "        result.append((hname, distance))\n",
    "    return pd.DataFrame(result, columns=['hashtag', 'distance']).sort_values(by='distance', ascending=False).reset_index(drop=True)"
   ]
  },
  {
   "cell_type": "markdown",
   "metadata": {},
   "source": [
    "here are example on how we measure list of words (preprocessed tweet) to hashtags"
   ]
  },
  {
   "cell_type": "code",
   "execution_count": 34,
   "metadata": {},
   "outputs": [],
   "source": [
    "words1 = 'drama korea apa selanjutnya ya'\n",
    "words2 = 'jangan rasis dong'"
   ]
  },
  {
   "cell_type": "code",
   "execution_count": 35,
   "metadata": {},
   "outputs": [
    {
     "data": {
      "text/html": [
       "<div>\n",
       "<style scoped>\n",
       "    .dataframe tbody tr th:only-of-type {\n",
       "        vertical-align: middle;\n",
       "    }\n",
       "\n",
       "    .dataframe tbody tr th {\n",
       "        vertical-align: top;\n",
       "    }\n",
       "\n",
       "    .dataframe thead th {\n",
       "        text-align: right;\n",
       "    }\n",
       "</style>\n",
       "<table border=\"1\" class=\"dataframe\">\n",
       "  <thead>\n",
       "    <tr style=\"text-align: right;\">\n",
       "      <th></th>\n",
       "      <th>hashtag</th>\n",
       "      <th>distance</th>\n",
       "    </tr>\n",
       "  </thead>\n",
       "  <tbody>\n",
       "    <tr>\n",
       "      <th>0</th>\n",
       "      <td>racism</td>\n",
       "      <td>0.974968</td>\n",
       "    </tr>\n",
       "    <tr>\n",
       "      <th>1</th>\n",
       "      <td>indonesia</td>\n",
       "      <td>0.968138</td>\n",
       "    </tr>\n",
       "    <tr>\n",
       "      <th>2</th>\n",
       "      <td>racist</td>\n",
       "      <td>0.946433</td>\n",
       "    </tr>\n",
       "    <tr>\n",
       "      <th>3</th>\n",
       "      <td>meteor</td>\n",
       "      <td>0.943452</td>\n",
       "    </tr>\n",
       "    <tr>\n",
       "      <th>4</th>\n",
       "      <td>belajar</td>\n",
       "      <td>0.940269</td>\n",
       "    </tr>\n",
       "  </tbody>\n",
       "</table>\n",
       "</div>"
      ],
      "text/plain": [
       "     hashtag  distance\n",
       "0     racism  0.974968\n",
       "1  indonesia  0.968138\n",
       "2     racist  0.946433\n",
       "3     meteor  0.943452\n",
       "4    belajar  0.940269"
      ]
     },
     "execution_count": 35,
     "metadata": {},
     "output_type": "execute_result"
    }
   ],
   "source": [
    "similar_hashtag(words2.split(), hashtag_vector, hashtag_name, model).head(5)"
   ]
  },
  {
   "cell_type": "code",
   "execution_count": 36,
   "metadata": {},
   "outputs": [
    {
     "data": {
      "text/html": [
       "<div>\n",
       "<style scoped>\n",
       "    .dataframe tbody tr th:only-of-type {\n",
       "        vertical-align: middle;\n",
       "    }\n",
       "\n",
       "    .dataframe tbody tr th {\n",
       "        vertical-align: top;\n",
       "    }\n",
       "\n",
       "    .dataframe thead th {\n",
       "        text-align: right;\n",
       "    }\n",
       "</style>\n",
       "<table border=\"1\" class=\"dataframe\">\n",
       "  <thead>\n",
       "    <tr style=\"text-align: right;\">\n",
       "      <th></th>\n",
       "      <th>hashtag</th>\n",
       "      <th>distance</th>\n",
       "    </tr>\n",
       "  </thead>\n",
       "  <tbody>\n",
       "    <tr>\n",
       "      <th>0</th>\n",
       "      <td>belajar</td>\n",
       "      <td>0.976736</td>\n",
       "    </tr>\n",
       "    <tr>\n",
       "      <th>1</th>\n",
       "      <td>kekeyi</td>\n",
       "      <td>0.972512</td>\n",
       "    </tr>\n",
       "    <tr>\n",
       "      <th>2</th>\n",
       "      <td>dcprotest</td>\n",
       "      <td>0.951983</td>\n",
       "    </tr>\n",
       "    <tr>\n",
       "      <th>3</th>\n",
       "      <td>filmterbaru</td>\n",
       "      <td>0.947506</td>\n",
       "    </tr>\n",
       "    <tr>\n",
       "      <th>4</th>\n",
       "      <td>riots</td>\n",
       "      <td>0.944672</td>\n",
       "    </tr>\n",
       "  </tbody>\n",
       "</table>\n",
       "</div>"
      ],
      "text/plain": [
       "       hashtag  distance\n",
       "0      belajar  0.976736\n",
       "1       kekeyi  0.972512\n",
       "2    dcprotest  0.951983\n",
       "3  filmterbaru  0.947506\n",
       "4        riots  0.944672"
      ]
     },
     "execution_count": 36,
     "metadata": {},
     "output_type": "execute_result"
    }
   ],
   "source": [
    "similar_hashtag(words1.split(), hashtag_vector, hashtag_name, model).head(5)"
   ]
  },
  {
   "cell_type": "markdown",
   "metadata": {},
   "source": [
    "From two example above, we can use the word2vec model to give hashtag recomendations. Also this technique is not that great compared to mor complex algorithm, but it's work."
   ]
  },
  {
   "cell_type": "code",
   "execution_count": 38,
   "metadata": {},
   "outputs": [],
   "source": [
    "# Menyimpan model word2vec\n",
    "# model.save('w2v_model')"
   ]
  },
  {
   "cell_type": "markdown",
   "metadata": {},
   "source": [
    "# 4. Hide tweet message using Steganography with Markov Chain Model\n",
    "\n",
    "In credit to complete Arga's Task"
   ]
  },
  {
   "cell_type": "markdown",
   "metadata": {},
   "source": [
    "## Download Ebook from gutenberg\n",
    "\n",
    "We are using \"The Adventure of Sherlock Holmes\" free ebook downloaded from gutenberg.org as our corpus. You can download the ebook using both R or Python. \n",
    "\n",
    "using R :\n",
    "```r\n",
    "library(gutenbergr)\n",
    "text <- gutenberg_download(1661)\n",
    "```\n",
    "\n",
    "or Python: \n",
    "```python\n",
    "from gutenberg.acquire import load_etext\n",
    "from gutenberg.cleanup import strip_headers\n",
    "text = strip_headers(load_etext(1661)).strip()\n",
    "```\n",
    "\n",
    "\n"
   ]
  },
  {
   "cell_type": "markdown",
   "metadata": {},
   "source": [
    "Below are some preprocess to extract only the textual content of the ebook. The resulting corpus might not be 100% of the original ebook."
   ]
  },
  {
   "cell_type": "code",
   "execution_count": 54,
   "metadata": {},
   "outputs": [],
   "source": [
    "# sherlock = pd.read_csv('data/sherlock.csv')\n",
    "# text = '\\n'.join(sherlock['text'])\n",
    "# with open('data/sherlock_text.txt', 'w') as file:\n",
    "#     file.write(text)"
   ]
  },
  {
   "cell_type": "markdown",
   "metadata": {},
   "source": [
    "Now we have the ebook in txt format. You can read using python using: \n"
   ]
  },
  {
   "cell_type": "code",
   "execution_count": 29,
   "metadata": {},
   "outputs": [],
   "source": [
    "with open('data/sherlock_text.txt', 'r') as file:\n",
    "    corpus = file.read()"
   ]
  },
  {
   "cell_type": "markdown",
   "metadata": {},
   "source": [
    "## Create Markov Chain"
   ]
  },
  {
   "cell_type": "code",
   "execution_count": 1,
   "metadata": {},
   "outputs": [],
   "source": [
    "import markov\n",
    "import utils\n",
    "import variableSizeCode\n",
    "\n",
    "import importlib"
   ]
  },
  {
   "cell_type": "code",
   "execution_count": 17,
   "metadata": {},
   "outputs": [
    {
     "data": {
      "text/plain": [
       "<module 'markov' from '/Users/iqbalbasyar/Documents/onego/Twitter Analysis/blacklivesmatter/markov.py'>"
      ]
     },
     "execution_count": 17,
     "metadata": {},
     "output_type": "execute_result"
    }
   ],
   "source": [
    "importlib.reload(utils)\n",
    "importlib.reload(variableSizeCode)\n",
    "importlib.reload(markov)"
   ]
  },
  {
   "cell_type": "code",
   "execution_count": 3,
   "metadata": {},
   "outputs": [],
   "source": [
    "# create markov bi-gram model from sherlox txt, save it as json file\n",
    "markov.createMarkovChainFromFile(inputFile='data/sherlock_text.txt', outputFile='data/markov2.json', wordsPerState=2)"
   ]
  },
  {
   "cell_type": "code",
   "execution_count": 4,
   "metadata": {},
   "outputs": [
    {
     "name": "stdout",
     "output_type": "stream",
     "text": [
      "OK: no errors found in markov file\n"
     ]
    }
   ],
   "source": [
    "# test markov\n",
    "markov.testMarkovChain('data/markov2.json')"
   ]
  },
  {
   "cell_type": "code",
   "execution_count": 5,
   "metadata": {},
   "outputs": [
    {
     "name": "stdout",
     "output_type": "stream",
     "text": [
      "Generated Text #0:\n",
      "He was handy and would come cheap\n",
      "\n",
      "Generated Text #1:\n",
      "But on the white creases of his belief\n",
      "\n",
      "Generated Text #2:\n",
      "And i have heard of since\n",
      "\n",
      "Generated Text #3:\n",
      "For his chambers\n",
      "\n",
      "Generated Text #4:\n",
      "Was shaking his fists fiercely at the door\n",
      "\n",
      "Generated Text #5:\n",
      "Is it\n",
      "\n",
      "Generated Text #6:\n",
      "He is indeed the culprit is mister st\n",
      "\n",
      "Generated Text #7:\n",
      "Went down to catch the last item\n",
      "\n",
      "Generated Text #8:\n",
      "You see nothing in the morning light revealed it to turn to mister lestrade of scotland yard and smoked very heavily\n",
      "\n",
      "Generated Text #9:\n",
      "A lumberroom up among the crowd to protect the lady and gentleman\n",
      "\n"
     ]
    }
   ],
   "source": [
    "# Example generate text with markov (random 10x)\n",
    "for i in range (10):\n",
    "    generated_text = utils.wordListToText(markov.generateTextUsingMarkovChain('data/markov2.json', wordsPerState=2))\n",
    "    print(f\"Generated Text #{i}:\\n{generated_text}\\n\")"
   ]
  },
  {
   "cell_type": "markdown",
   "metadata": {},
   "source": [
    "## Encoding\n",
    "What markov model can be used for, is to generate text based on the probability given a sequence of characters we are going to encode. \n",
    "We change the plain text into its binary from each character's ordinal number, then predict what's most suitable word representing it in the corpus"
   ]
  },
  {
   "cell_type": "code",
   "execution_count": 20,
   "metadata": {},
   "outputs": [
    {
     "name": "stdout",
     "output_type": "stream",
     "text": [
      "wrote 784 bits\n",
      "elapsed time: 0.9256319999694824 seconds\n",
      " - encoding time: 0.2892169952392578 seconds\n"
     ]
    }
   ],
   "source": [
    "# encode a textfile\n",
    "variableSizeCode.encodeDataFromFile(\n",
    "    inputFile='data/plain_tweet2.txt', \n",
    "    outputFile='data/encoded_tweet2.txt', \n",
    "    markovInputFile='data/markov2.json', \n",
    "    textFileFormat=True, \n",
    "    wordsPerState=2)"
   ]
  },
  {
   "cell_type": "markdown",
   "metadata": {},
   "source": [
    "## Decoding\n",
    "\n",
    "To put it simple, the process of the decoding is the reverse of encoding. We predict the word's binary form using markov chain, and return the character"
   ]
  },
  {
   "cell_type": "code",
   "execution_count": 21,
   "metadata": {},
   "outputs": [
    {
     "name": "stdout",
     "output_type": "stream",
     "text": [
      "read 784 bits\n",
      "elapsed time: 0.47115397453308105 seconds\n",
      " - decoding time: 0.2531273365020752 seconds\n"
     ]
    }
   ],
   "source": [
    "# decode a textfile\n",
    "variableSizeCode.decodeDataFromFile(\n",
    "    inputFile='data/encoded_tweet2.txt',\n",
    "    outputFile='data/decoded_tweet2.txt', \n",
    "    markovInputFile='data/markov2.json', \n",
    "    textFileFormat = True, \n",
    "    wordsPerState = 2)"
   ]
  },
  {
   "cell_type": "code",
   "execution_count": 28,
   "metadata": {},
   "outputs": [
    {
     "name": "stdout",
     "output_type": "stream",
     "text": [
      "\n",
      "Original Text : \n",
      "Tau dulu kondisi nya, tau dulu asal-usul nya. Tau dulu penyebab dan tekanan nya. Hal yang bentuk stigma nya negatif itu gak bisa dibilang selalu negatif gitu aja.\n",
      "\n",
      "Encoded Text : \n",
      "Had his ordinary clothes on but without finding anything which you may be interested in these little problems. There has been quite willing to undergo the wedding. For something more cheerful. And i wrote to father at bordeaux. Of which mister henry baker. And all its advantages and all those who ask for the presence of the room and i have a vague figure huddled up in despair but spaulding would not have thought sometimes that it was a widower. I saw how many were waiting. But it was not surprised to hear your majesty must pay. Then i made the sign of his suspicious looks at me as the weeks passed and nothing happened to live in winchester. And he misses me so good a wife as an actress myself. The lad could not imagine. A slow and heavy with snow and his tie under his cloak and laid it on either side and the opposing windows loomed like dark. Merely a couple of hours every day. There were no signs of having upon the table he shook hands with us. The possession of a tortured child. He stepped swiftly forward. And suited me so if i could see nothing. Lhomme cest rien loeuvre cest tout. We must stretch a point in your heart of a cigar. And it was after five oclock when we left baker street at ten oclock at night. It was a deposit of fullersearth in one corner of the facts are quite new. I went into the room in uncontrollable agitation. Let you know me too well to cringe and crawl now. Who could it be might not take any action without a witness. I have heard me remark that she has a soul. As he lay there. The lady could not but think with some apparent surprise at the little man was either a lover he would get quite mad if i waited until midnight. Or perhaps that you remarked to your room and i have heard something. He will explain the necessity for my own. He picked a redcovered volume from his chair and stared into the room as a companion. There is someone more cunning than himself for her jewelbox. He sprang to his ringfinger. Both before and after. And we rattled through an endless labyrinth of small streets which lead towards the unusual. And it need not point out to me that our landlady had provided. If i waited i should or should you come pestering me any more with your permission i will make the thing to do. No sign of his hands into the apartment with flushed cheeks and the work is slight. And had paid the man uttered. And he has broken him down into the crackling fire. And i have been written on monday he made one of them had wives living. With this awful business. So that even the bark from a blunt penknife. You may submit to me seemed to be married. How far from being out of it all plain i quite follow me entirely. Lestrade and i. And i mean to wear. As far as we had reached the corner which i\n",
      "\n",
      "Decoded Text : \n",
      "Tau dulu kondisi nya, tau dulu asal-usul nya. Tau dulu penyebab dan tekanan nya. Hal yang bentuk stigma nya negatif itu gak bisa dibilang selalu negatif gitu aja.\n",
      "------------------------------\n",
      "\n",
      "Original Text : \n",
      "Ini adlah contoh teks tweet. Kita akan mencoba meng-encode dengan memanfaatkan markov chain model.\n",
      "\n",
      "Encoded Text : \n",
      "But hell be gone before you can understand. To sherlock holmes and i felt angry at having been seen upon the matter up. You are to understand the situation which has already been engaged for the sake of this excuse me if i do not think of the foremost citizens of london. Lithe and small like himself. Omne ignotum pro magnifico. I saw how many were waiting. But there is something interesting. You may address me as possible. And the sailing vessel which touched at pondicherry in january. My thrill of terror when last night. He is always the woman. Just as good a chance as any young man. While the clergyman beamed on me in my room swung slowly open. Where did they say that we may never be exposed to such a union no. There would be no doubt that this mccarthy. Its effect is much less than my neighbours. It is not too delicate for communication. There would be no doubt that this man has written to him in astonishment. At the opening. Now let us talk it over with cotton wadding and carbolised bandages. It was a little clearer both to her. Where we were fortunate in catching a train to the general public were present. When compared to the crop of a snake instantly occurred to me. Was well convinced that our client clutched it up in my mind before he could not come back. In your undertaking. They were posted today at gravesend. Taking a step which leads on to it came right away round to us for help. Mccarthy had one son. Then he left me by sherlock holmes. And yet he sat frequently for half an hour. No sound came from there. Its black muzzle buried in thought with a round table in the papers which holmes had\n",
      "\n",
      "Decoded Text : \n",
      "Ini adlah contoh teks tweet. Kita akan mencoba meng-encode dengan memanfaatkan markov chain model.\n",
      "\n"
     ]
    }
   ],
   "source": [
    "with open('data/plain_tweet1.txt') as file:\n",
    "    plain_tweet1 = file.read()\n",
    "with open('data/encoded_tweet1.txt') as file:\n",
    "    encoded_tweet1 = file.read()\n",
    "with open('data/decoded_tweet1.txt') as file:\n",
    "    decoded_tweet1 = file.read()\n",
    "\n",
    "with open('data/plain_tweet2.txt') as file:\n",
    "    plain_tweet2 = file.read()\n",
    "with open('data/encoded_tweet2.txt') as file:\n",
    "    encoded_tweet2 = file.read()\n",
    "with open('data/decoded_tweet2.txt') as file:\n",
    "    decoded_tweet2 = file.read()\n",
    "\n",
    "print(f\"\"\"\n",
    "Original Text : \n",
    "{plain_tweet1}\n",
    "\n",
    "Encoded Text : \n",
    "{encoded_tweet1}\n",
    "\n",
    "Decoded Text : \n",
    "{decoded_tweet1}\n",
    "------------------------------\n",
    "\n",
    "Original Text : \n",
    "{plain_tweet2}\n",
    "\n",
    "Encoded Text : \n",
    "{encoded_tweet2}\n",
    "\n",
    "Decoded Text : \n",
    "{decoded_tweet2}\n",
    "\"\"\")"
   ]
  },
  {
   "cell_type": "code",
   "execution_count": null,
   "metadata": {},
   "outputs": [],
   "source": []
  }
 ],
 "metadata": {
  "kernelspec": {
   "display_name": "Prakerja",
   "language": "python",
   "name": "prakerja"
  },
  "language_info": {
   "codemirror_mode": {
    "name": "ipython",
    "version": 3
   },
   "file_extension": ".py",
   "mimetype": "text/x-python",
   "name": "python",
   "nbconvert_exporter": "python",
   "pygments_lexer": "ipython3",
   "version": "3.8.3"
  }
 },
 "nbformat": 4,
 "nbformat_minor": 4
}
